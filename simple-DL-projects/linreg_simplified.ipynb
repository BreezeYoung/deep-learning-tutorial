{
 "cells": [
  {
   "cell_type": "code",
   "execution_count": 3,
   "metadata": {},
   "outputs": [],
   "source": [
    "from mxnet import nd, autograd\n",
    "import random\n",
    "\n",
    "true_W = nd.array([2, -3.4]).reshape(2, 1)\n",
    "true_b = -4.2\n",
    "num_inputs = 2\n",
    "num_samples = 1000\n",
    "features = nd.random.normal(scale=1, shape=(num_samples, num_inputs))\n",
    "labels = nd.dot(features, true_W) + true_b\n",
    "labels += nd.random.normal(scale = 0.01, shape=labels.shape)"
   ]
  },
  {
   "cell_type": "code",
   "execution_count": 9,
   "metadata": {},
   "outputs": [
    {
     "name": "stdout",
     "output_type": "stream",
     "text": [
      "\n",
      "[[-1.5666938   0.61245096]\n",
      " [ 1.0494479   0.14226237]\n",
      " [ 1.8858474   0.07053453]\n",
      " [-0.7651942   0.16437985]\n",
      " [-0.03142362 -2.3463464 ]\n",
      " [-0.5893647  -0.89429986]\n",
      " [ 0.11958748  1.0943946 ]\n",
      " [ 0.7848637   0.09315785]\n",
      " [-0.26842585  0.09316857]\n",
      " [-1.3158178   0.7985707 ]]\n",
      "<NDArray 10x2 @cpu(0)> \n",
      "[[-9.408498  ]\n",
      " [-2.5718586 ]\n",
      " [-0.66279685]\n",
      " [-6.28455   ]\n",
      " [ 3.7215796 ]\n",
      " [-2.3513904 ]\n",
      " [-7.678594  ]\n",
      " [-2.9502563 ]\n",
      " [-5.068206  ]\n",
      " [-9.545964  ]]\n",
      "<NDArray 10x1 @cpu(0)>\n"
     ]
    }
   ],
   "source": [
    "from mxnet.gluon import data as gdata\n",
    "\n",
    "batch_size = 10\n",
    "dataset = gdata.ArrayDataset(features, labels)\n",
    "data_iter = gdata.DataLoader(dataset, batch_size, shuffle=True)\n",
    "for X, y in data_iter:\n",
    "    print(X, y)\n",
    "    break"
   ]
  },
  {
   "cell_type": "code",
   "execution_count": 5,
   "metadata": {},
   "outputs": [],
   "source": [
    "from mxnet.gluon import nn\n",
    "network = nn.Sequential()\n",
    "network.add(nn.Dense(1))"
   ]
  },
  {
   "cell_type": "code",
   "execution_count": 13,
   "metadata": {},
   "outputs": [
    {
     "name": "stderr",
     "output_type": "stream",
     "text": [
      "/home/breeze/miniconda3/envs/gluon/lib/python3.6/site-packages/mxnet/gluon/parameter.py:813: UserWarning: Parameter 'dense0_weight' is already initialized, ignoring. Set force_reinit=True to re-initialize.\n",
      "  v.initialize(None, ctx, init, force_reinit=force_reinit)\n",
      "/home/breeze/miniconda3/envs/gluon/lib/python3.6/site-packages/mxnet/gluon/parameter.py:813: UserWarning: Parameter 'dense0_bias' is already initialized, ignoring. Set force_reinit=True to re-initialize.\n",
      "  v.initialize(None, ctx, init, force_reinit=force_reinit)\n"
     ]
    }
   ],
   "source": [
    "from mxnet import init\n",
    "network.initialize(init.Normal(sigma = 0.01))\n",
    "from mxnet.gluon import loss as gloss\n",
    "loss = gloss.L2Loss()"
   ]
  },
  {
   "cell_type": "code",
   "execution_count": 15,
   "metadata": {},
   "outputs": [
    {
     "name": "stdout",
     "output_type": "stream",
     "text": [
      "epoch 1, loss 0.032673\n",
      "epoch 2, loss 0.000114\n",
      "epoch 3, loss 0.000049\n",
      "epoch 4, loss 0.000049\n",
      "epoch 5, loss 0.000049\n"
     ]
    }
   ],
   "source": [
    "from mxnet import gluon\n",
    "trainer = gluon.Trainer(network.collect_params(), 'sgd', {'learning_rate':0.03})\n",
    "num_epochs = 5\n",
    "for epoch in range(1, num_epochs + 1):\n",
    "    for X, y in data_iter:\n",
    "        with autograd.record():\n",
    "            l = loss(network(X), y).mean()\n",
    "        l.backward()\n",
    "        trainer.step(1)\n",
    "    l = loss(network(features), labels)\n",
    "    print('epoch %d, loss %f' % (epoch, l.mean().asscalar()))"
   ]
  },
  {
   "cell_type": "code",
   "execution_count": 17,
   "metadata": {},
   "outputs": [
    {
     "data": {
      "text/plain": [
       "(\n",
       " [[ 2. ]\n",
       "  [-3.4]]\n",
       " <NDArray 2x1 @cpu(0)>, \n",
       " [[ 1.9999746 -3.4000585]]\n",
       " <NDArray 1x2 @cpu(0)>)"
      ]
     },
     "execution_count": 17,
     "metadata": {},
     "output_type": "execute_result"
    }
   ],
   "source": [
    "dense = network[0]\n",
    "true_W, dense.weight.data()"
   ]
  },
  {
   "cell_type": "code",
   "execution_count": 18,
   "metadata": {},
   "outputs": [
    {
     "data": {
      "text/plain": [
       "(-4.2, \n",
       " [-4.200469]\n",
       " <NDArray 1 @cpu(0)>)"
      ]
     },
     "execution_count": 18,
     "metadata": {},
     "output_type": "execute_result"
    }
   ],
   "source": [
    "true_b, dense.bias.data()"
   ]
  },
  {
   "cell_type": "code",
   "execution_count": null,
   "metadata": {},
   "outputs": [],
   "source": []
  }
 ],
 "metadata": {
  "kernelspec": {
   "display_name": "Python 3",
   "language": "python",
   "name": "python3"
  },
  "language_info": {
   "codemirror_mode": {
    "name": "ipython",
    "version": 3
   },
   "file_extension": ".py",
   "mimetype": "text/x-python",
   "name": "python",
   "nbconvert_exporter": "python",
   "pygments_lexer": "ipython3",
   "version": "3.6.8"
  }
 },
 "nbformat": 4,
 "nbformat_minor": 2
}
